{
 "cells": [
  {
   "cell_type": "markdown",
   "metadata": {},
   "source": [
    "## Primer on Regular Expressions ##"
   ]
  },
  {
   "cell_type": "code",
   "execution_count": 2,
   "metadata": {},
   "outputs": [],
   "source": [
    "import re"
   ]
  },
  {
   "cell_type": "markdown",
   "metadata": {},
   "source": [
    "#### findall and * character ####\n",
    "findall, as the name suggests, finds all the occurences of a the entered pattern\n",
    "\n",
    "the * character means that \"zero or more occurences.\" \n",
    "It is used just after the character it is applied to. So, ab*c would return any \n",
    "string pattern where \"a\" and \"c\" either have NO character between them OR, only the\n",
    "alphabet \"b\" is within \"a\" and \"c\". So, [\"ac\", \"abc\", \"abbbbbbc\"] can be expected\n",
    "Please note that if there is some other letter other than \"b\" between \"a\" and \"c\", \n",
    "then nothing would be returned. Like, \"atbbbc\" would return [].\n"
   ]
  },
  {
   "cell_type": "code",
   "execution_count": 4,
   "metadata": {},
   "outputs": [
    {
     "name": "stdout",
     "output_type": "stream",
     "text": [
      "['ac']\n",
      "['abc']\n",
      "['abbbc']\n",
      "[]\n"
     ]
    }
   ],
   "source": [
    "firstString = re.findall(\"ab*c\", \"ac\")\n",
    "print(firstString)\n",
    "\n",
    "string2 = re.findall(\"ab*c\", \"abc\") \n",
    "print(string2)\n",
    "\n",
    "string3 = re.findall(\"ab*c\", \"abbbc\")\n",
    "print(str(string3[0]))\n",
    "\n",
    "string4 = re.findall(\"ab*c\", \"atbc\")\n",
    "print(str(string4))"
   ]
  },
  {
   "cell_type": "markdown",
   "metadata": {},
   "source": [
    "#### The \".\" character and usage of \".*\" ####\n",
    "\n",
    "\".\" character within regex means EXACTLY ONE CHARACTER in the string.\n",
    "\n",
    "A popular representation for any character any number of times is represented by the dot-star pattern \n",
    "\".*\" "
   ]
  },
  {
   "cell_type": "code",
   "execution_count": 7,
   "metadata": {},
   "outputs": [
    {
     "name": "stdout",
     "output_type": "stream",
     "text": [
      "['ac']\n",
      "['a this is a party c']\n",
      "['a notice that the farthest a and c will be extracted c']\n"
     ]
    }
   ],
   "source": [
    "string5  = re.findall(\"a.*c\", \"ac\")\n",
    "print(string5)\n",
    "\n",
    "string6 = re.findall(\"a.*c\", \"a this is a party c\")\n",
    "print(string6)\n",
    "\n",
    "string7 = re.findall(\"a.*c\", \"a This seems c like a great string.\\n but is it a great string,\\n I am not sure c\")\n",
    "print(string7)"
   ]
  },
  {
   "cell_type": "markdown",
   "metadata": {},
   "source": [
    "#### The re.sub() function ####\n",
    "\n",
    "The sub stands for substitution. It is used to replace a particular pattern with the attached string.\n"
   ]
  },
  {
   "cell_type": "code",
   "execution_count": 6,
   "metadata": {},
   "outputs": [
    {
     "name": "stdout",
     "output_type": "stream",
     "text": [
      "This seems like a cool string.\n",
      "This seems like a coolring.\n",
      " but is it a coolring,\n",
      " I am not sure\n"
     ]
    }
   ],
   "source": [
    "string8 = \"This seems like a great string.\"\n",
    "string8 = re.sub(\"great\", \"cool\", string8)\n",
    "print(string8)\n",
    "\n",
    "string9 = \"This seems like a great string.\\n but is it a great string,\\n I am not sure\"\n",
    "string9 = re.sub(\"g.*t\", \"cool\", string9, re.DOTALL)\n",
    "print(string9)"
   ]
  },
  {
   "cell_type": "markdown",
   "metadata": {},
   "source": [
    "#### Usage of \"?\" for non-greedy extraction ####\n",
    "\n",
    "By default, the re.findall are greedy but by appending \"?\" at the end of the reference string, \n",
    "we can perform non-greedy extractions of string patterns"
   ]
  },
  {
   "cell_type": "code",
   "execution_count": 19,
   "metadata": {},
   "outputs": [
    {
     "name": "stdout",
     "output_type": "stream",
     "text": [
      "let's try greedy NEWSTRING\n",
      "\n",
      "\n",
      "now let's try to do NEWSTRING non greedy. NEWSTRING\n"
     ]
    }
   ],
   "source": [
    "string10 = \"let's try greedy <sample> substitution. <tag>\"\n",
    "sub10 = re.sub(\"<.*>\", \"NEWSTRING\", string10)\n",
    "print(sub10)\n",
    "\n",
    "print(\"\\n\")\n",
    "\n",
    "string11 = \"now let's try to do <sample> non greedy. <tag>\"\n",
    "sub11 = re.sub(\"<.*?>\", \"NEWSTRING\", string11)\n",
    "print(sub11)\n"
   ]
  },
  {
   "cell_type": "code",
   "execution_count": 5,
   "metadata": {},
   "outputs": [
    {
     "name": "stdout",
     "output_type": "stream",
     "text": [
      "['This', 'is', 'a', 'mangon', 'and', 'peach']\n",
      "This is a mangon and peach\n"
     ]
    }
   ],
   "source": [
    "import re\n",
    "newList = \"This is a mangon and peach\"\n",
    "newList = newList.split()\n",
    "print(newList)\n",
    "newList= ' '.join(newList)\n",
    "print(newList)"
   ]
  }
 ],
 "metadata": {
  "interpreter": {
   "hash": "e38a1460b04573a2a6d606f3ee63eaf0bb25da1bdd630acd98b31a4dd036fd42"
  },
  "kernelspec": {
   "display_name": "Python 3.9.10 64-bit",
   "language": "python",
   "name": "python3"
  },
  "language_info": {
   "codemirror_mode": {
    "name": "ipython",
    "version": 3
   },
   "file_extension": ".py",
   "mimetype": "text/x-python",
   "name": "python",
   "nbconvert_exporter": "python",
   "pygments_lexer": "ipython3",
   "version": "3.10.4"
  },
  "orig_nbformat": 4
 },
 "nbformat": 4,
 "nbformat_minor": 2
}
