{
 "cells": [
  {
   "cell_type": "code",
   "execution_count": 2,
   "metadata": {},
   "outputs": [],
   "source": [
    "import re\n",
    "import requests\n",
    "#from bs4 import BeautifulSoup"
   ]
  },
  {
   "cell_type": "code",
   "execution_count": 3,
   "metadata": {},
   "outputs": [],
   "source": [
    "url = \"https://bigseventravel.com/50-most-visited-cities-in-the-world/\"\n",
    "page = requests.get(url)\n",
    "pageContent = page.content\n",
    "type(pageContent)\n",
    "pageString = pageContent.decode(\"utf-8\")"
   ]
  },
  {
   "cell_type": "code",
   "execution_count": 4,
   "metadata": {},
   "outputs": [],
   "source": [
    "fp = open(\"Cities2018.html\", \"w\")\n",
    "fp.write(pageString)\n",
    "fp.close()"
   ]
  },
  {
   "cell_type": "markdown",
   "metadata": {},
   "source": [
    "#### **We have the page in html format at this point**  ####\n",
    "\n",
    "We can now move to extract relevant data from the html code"
   ]
  },
  {
   "cell_type": "code",
   "execution_count": 6,
   "metadata": {},
   "outputs": [],
   "source": [
    "sampleList = []\n",
    "for i in range(50):\n",
    "    sampleList.append(str(i+1))\n",
    "#sampleList"
   ]
  },
  {
   "cell_type": "code",
   "execution_count": 7,
   "metadata": {},
   "outputs": [],
   "source": [
    "fp = open(\"Cities2018.html\", \"r+\")\n",
    "pageString = fp.read()\n",
    "fp.close()"
   ]
  },
  {
   "cell_type": "code",
   "execution_count": 10,
   "metadata": {},
   "outputs": [],
   "source": [
    "listOfMatches = []\n",
    "for i in sampleList:\n",
    "    i = \">\" + i+\"\\. [A-Z].*?year\"\n",
    "    listOfMatches.append(re.findall(i, pageString))\n",
    "#print(listOfMatches)"
   ]
  },
  {
   "cell_type": "code",
   "execution_count": 68,
   "metadata": {},
   "outputs": [
    {
     "name": "stdout",
     "output_type": "stream",
     "text": [
      "1,Hong Kong,China,27880000.0\n",
      "2,Bangkok,Thailand,22453000.0\n",
      "3,London,UK,19827000.0\n",
      "4,Singapore,Singapore,17618000.0\n",
      "5,Macau,China,17337000.0\n",
      "6,Paris,France,15834000.0\n",
      "7,Dubai,UAE,15790000.0\n",
      "8,New York City,US,13100000.0\n",
      "9,Kuala Lumpur,Malaysia,12843000.0\n",
      "10,Shenzhen,China,12075000.0\n",
      "11,Phuket,Thailand,11613000.0\n",
      "12,Istanbul,Turkey,10730000.0\n",
      "13,Delhi,India,10157000.0\n",
      "14,Tokyo,Japan,9549000.0\n",
      "15,Rome,Italy,9531000.0\n",
      "16,Antalya,Turkey,9482000.0\n",
      "17,Taipei,Taiwan,9273000.0\n",
      "18,Guangzhou,China,9004000.0\n",
      "19,Mumbai,India,8984000.0\n",
      "20,Prague,Czech Republic,8806000.0\n",
      "21,Mecca,Saudi Arabia,8632000.0\n",
      "22,Miami,US,8074999.999999999\n",
      "23,Amsterdam,Netherlands,7848000.0\n",
      "24,Seoul,South Korea,7659000.0\n",
      "25,Pattaya,Thailand,7426000.0\n",
      "26,Shanghai,China,7193000.0\n",
      "27,Los Angeles,US,7165000.0\n",
      "28,Las Vegas,US,6687000.0\n",
      "29,Agra,India,6644000.0\n",
      "30,Osaka,Japan,6605000.0\n",
      "31,Barcelona,Spain,6530000.0\n",
      "32,Milan,Italy,6347000.0\n",
      "33,Denpasar,Indonesia,6238000.0\n",
      "34,Vienna,Austria,6067000.0\n",
      "35,Cancï¿½n,Mexico,6039000.0\n",
      "36,Berlin,Germany,5627000.0\n",
      "37,Johor Bahru,Malaysia,5571000.0\n",
      "38,Johannesburg,South Africa,5535000.0\n",
      "39,Ho Chi Minh City,Vietnam,5500000.0\n",
      "40,Riyadh,Saudi Arabia,5396000.0\n",
      "41,Venice,Italy,5316000.0\n",
      "42,Jaipur,India,5288000.0\n",
      "43,Madrid,Spain,5275000.0\n",
      "44,Orlando,US,5269000.0\n",
      "45,Chennai,India,5086000.0\n",
      "46,Dublin,Ireland,4986000.0\n",
      "47,Florence,Italy,4941000.0\n",
      "48,Moscow,Russia,4800000.0\n",
      "49,Athens,Greece,4797000.0\n",
      "50,Cairo,Egypt,4388000.0\n"
     ]
    }
   ],
   "source": [
    "fp = open(\"Cities2018.csv\", \"w\")\n",
    "for i in listOfMatches:\n",
    "    tempList = str(i).split(\",\")\n",
    "    firstHalf = tempList[0].split(\". \")\n",
    "    secondHalf = tempList[1].split(\"with\")\n",
    "    country = secondHalf[0]\n",
    "    country = country.lstrip()\n",
    "    country = country.rstrip()\n",
    "    #print(country)\n",
    "    city = firstHalf[1]\n",
    "    secondHalf = secondHalf[1].split()\n",
    "    tourists = float(secondHalf[0])*1000000\n",
    "    firstHalf = str(firstHalf[0]).split(\">\")\n",
    "    rank = firstHalf[1]\n",
    "    mainElem = rank + \",\" + city + \",\" + country + \",\" + str(tourists) \n",
    "    print(mainElem)\n",
    "    fp.write(mainElem)\n",
    "    fp.write(\"\\n\")\n",
    "fp.close()"
   ]
  }
 ],
 "metadata": {
  "interpreter": {
   "hash": "103a89454e98b1c11d9ee2beb018386b72d812e09b0351d23b72dd33d336d4cc"
  },
  "kernelspec": {
   "display_name": "Python 3.10.4 64-bit",
   "language": "python",
   "name": "python3"
  },
  "language_info": {
   "codemirror_mode": {
    "name": "ipython",
    "version": 3
   },
   "file_extension": ".py",
   "mimetype": "text/x-python",
   "name": "python",
   "nbconvert_exporter": "python",
   "pygments_lexer": "ipython3",
   "version": "3.10.4"
  },
  "orig_nbformat": 4
 },
 "nbformat": 4,
 "nbformat_minor": 2
}
